{
 "cells": [
  {
   "cell_type": "code",
   "execution_count": 1,
   "metadata": {},
   "outputs": [
    {
     "name": "stderr",
     "output_type": "stream",
     "text": [
      "/Users/uladzimir/app/anaconda/lib/python3.6/importlib/_bootstrap.py:205: RuntimeWarning: compiletime version 3.5 of module 'tensorflow.python.framework.fast_tensor_util' does not match runtime version 3.6\n",
      "  return f(*args, **kwds)\n"
     ]
    }
   ],
   "source": [
    "import pandas as pd\n",
    "from tqdm import tqdm\n",
    "\n",
    "import tensorflow as tf"
   ]
  },
  {
   "cell_type": "code",
   "execution_count": 2,
   "metadata": {
    "collapsed": true
   },
   "outputs": [],
   "source": [
    "%run \"preprocessing.ipynb\""
   ]
  },
  {
   "cell_type": "code",
   "execution_count": 3,
   "metadata": {
    "collapsed": true
   },
   "outputs": [],
   "source": [
    "def weight_variable(shape):\n",
    "    initial = tf.truncated_normal(shape, stddev=0.1)\n",
    "    return tf.Variable(initial)\n",
    "\n",
    "def bias_variable(shape):\n",
    "    initial = tf.constant(0.1, shape=shape)\n",
    "    return tf.Variable(initial)"
   ]
  },
  {
   "cell_type": "markdown",
   "metadata": {},
   "source": [
    "<h3>Model</h3>"
   ]
  },
  {
   "cell_type": "code",
   "execution_count": 21,
   "metadata": {},
   "outputs": [],
   "source": [
    "x  = tf.placeholder(tf.float32, shape=[None, 128])\n",
    "y_ = tf.placeholder(tf.float32, shape=[None, 2])\n",
    "\n",
    "W_fc1 = weight_variable([128, 128])\n",
    "b_fc1 = bias_variable([128])\n",
    "\n",
    "W_fc2 = weight_variable([128, 2])\n",
    "b_fc2 = bias_variable([2])\n",
    "\n",
    "W_fc3 = weight_variable([256, 64])\n",
    "b_fc3 = bias_variable([64])\n",
    "\n",
    "W_fc4 = weight_variable([64, 2])\n",
    "b_fc4 = bias_variable([2])\n",
    "\n",
    "y_l1 = tf.matmul(x,W_fc1) + b_fc1\n",
    "y_l2 = tf.matmul(y_l1,W_fc2) + b_fc2\n",
    "# y_l3 = tf.matmul(y_l2,W_fc3) + b_fc3\n",
    "# y_l4 = tf.matmul(y_l3,W_fc4) + b_fc4\n",
    "y = y_l2\n",
    "\n",
    "cross_entropy = tf.reduce_mean(\n",
    "    tf.nn.softmax_cross_entropy_with_logits(labels=y_, logits=y))\n",
    "\n",
    "train_step = tf.train.AdamOptimizer(0.2).minimize(cross_entropy)\n",
    "\n",
    "correct_prediction = tf.equal(tf.argmax(y,1), tf.argmax(y_,1))\n",
    "accuracy = tf.reduce_mean(tf.cast(correct_prediction, tf.float32))"
   ]
  },
  {
   "cell_type": "code",
   "execution_count": 22,
   "metadata": {},
   "outputs": [
    {
     "name": "stderr",
     "output_type": "stream",
     "text": [
      "100%|██████████| 50/50 [00:00<00:00, 423.29it/s]"
     ]
    },
    {
     "name": "stdout",
     "output_type": "stream",
     "text": [
      "step 0, training accuracy 0.4\n",
      "step 5, training accuracy 0.2\n",
      "step 10, training accuracy 0.6\n",
      "step 15, training accuracy 0.6\n",
      "step 20, training accuracy 0.8\n",
      "step 25, training accuracy 0.2\n",
      "step 30, training accuracy 0.4\n",
      "step 35, training accuracy 0.8\n",
      "step 40, training accuracy 0.4\n",
      "step 45, training accuracy 0.2\n",
      "test accuracy 0.517241\n"
     ]
    },
    {
     "name": "stderr",
     "output_type": "stream",
     "text": [
      "\n"
     ]
    }
   ],
   "source": [
    "hangover['train'].reset()\n",
    "hangover['test'].reset()\n",
    "\n",
    "with tf.Session() as sess:\n",
    "    sess.run(tf.global_variables_initializer())\n",
    "    for i in tqdm(range(50)):\n",
    "        batch = hangover['train'].next_batch(5)\n",
    "        x_batch = batch['x']\n",
    "        y_batch = np.array([[1,0] if i==0 else [0,1] for i in batch['y']]) \n",
    "        \n",
    "        if i % 5 == 0:\n",
    "            train_accuracy = accuracy.eval(feed_dict={\n",
    "                x: x_batch, y_: y_batch})\n",
    "            print('step %d, training accuracy %g' % (i, train_accuracy))\n",
    "        \n",
    "        train_step.run(feed_dict={x: x_batch, y_: y_batch})\n",
    "\n",
    "    y_batch_test = np.array([[1,0] if i==0 else [0,1] for i in hangover['test'].get_all('y')])\n",
    "    print('test accuracy %g' % accuracy.eval(feed_dict={\n",
    "        x: hangover['test'].get_all('x'), y_: y_batch_test}))"
   ]
  },
  {
   "cell_type": "code",
   "execution_count": null,
   "metadata": {
    "collapsed": true
   },
   "outputs": [],
   "source": []
  }
 ],
 "metadata": {
  "kernelspec": {
   "display_name": "Python 3",
   "language": "python",
   "name": "python3"
  },
  "language_info": {
   "codemirror_mode": {
    "name": "ipython",
    "version": 3
   },
   "file_extension": ".py",
   "mimetype": "text/x-python",
   "name": "python",
   "nbconvert_exporter": "python",
   "pygments_lexer": "ipython3",
   "version": "3.6.1"
  }
 },
 "nbformat": 4,
 "nbformat_minor": 2
}
