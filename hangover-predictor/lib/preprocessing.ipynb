{
 "cells": [
  {
   "cell_type": "code",
   "execution_count": null,
   "metadata": {
    "collapsed": true
   },
   "outputs": [],
   "source": [
    "import pandas as pd\n",
    "import numpy as np\n",
    "\n",
    "from sklearn.utils import shuffle"
   ]
  },
  {
   "cell_type": "markdown",
   "metadata": {},
   "source": [
    "<h3>Preprocessing</h3>"
   ]
  },
  {
   "cell_type": "code",
   "execution_count": null,
   "metadata": {
    "collapsed": true
   },
   "outputs": [],
   "source": [
    "hangover_df = pd.read_csv('../data/hangover/reps.csv', header=None)\n",
    "hangover_df['target'] = 1\n",
    "normal_df   = pd.read_csv('../data/normal/reps.csv', header=None)\n",
    "normal_df['target'] = 0\n",
    "df = pd.concat([hangover_df, normal_df])\n",
    "df = shuffle(df)\n",
    "\n",
    "msk = np.random.rand(len(df)) <= 0.7\n",
    "train_df = df[msk]\n",
    "test_df = df[~msk]"
   ]
  },
  {
   "cell_type": "code",
   "execution_count": null,
   "metadata": {
    "collapsed": true
   },
   "outputs": [],
   "source": [
    "train = {'x': train_df.drop('target', axis=1), 'y': train_df['target']}\n",
    "test  = {'x': test_df.drop('target', axis=1), 'y': test_df['target']}"
   ]
  },
  {
   "cell_type": "code",
   "execution_count": null,
   "metadata": {
    "collapsed": true
   },
   "outputs": [],
   "source": [
    "class Batch:\n",
    "    def __init__(self, data):\n",
    "        self.data = data\n",
    "        self.cur_index = 0\n",
    "        \n",
    "    def next_batch(self, count):\n",
    "        res_x = self.data['x'][self.cur_index:self.cur_index+count]\n",
    "        res_y = self.data['y'][self.cur_index:self.cur_index+count]\n",
    "        self.cur_index = self.cur_index+count\n",
    "        return {'x': res_x, 'y': res_y}\n",
    "    \n",
    "    def get_all(self, feature):\n",
    "        return self.data[feature]\n",
    "    \n",
    "    def reset(self):\n",
    "        self.cur_index = 0"
   ]
  },
  {
   "cell_type": "code",
   "execution_count": null,
   "metadata": {
    "collapsed": true
   },
   "outputs": [],
   "source": [
    "hangover = {\n",
    "    'train': Batch(train),\n",
    "    'test': Batch(test)\n",
    "}"
   ]
  }
 ],
 "metadata": {
  "kernelspec": {
   "display_name": "Python 3",
   "language": "python",
   "name": "python3"
  },
  "language_info": {
   "codemirror_mode": {
    "name": "ipython",
    "version": 3
   },
   "file_extension": ".py",
   "mimetype": "text/x-python",
   "name": "python",
   "nbconvert_exporter": "python",
   "pygments_lexer": "ipython3",
   "version": "3.6.1"
  }
 },
 "nbformat": 4,
 "nbformat_minor": 2
}
