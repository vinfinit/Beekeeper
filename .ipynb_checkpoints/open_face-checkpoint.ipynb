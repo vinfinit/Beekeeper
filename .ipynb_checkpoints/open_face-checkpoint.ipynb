{
 "cells": [
  {
   "cell_type": "code",
   "execution_count": 1,
   "metadata": {
    "collapsed": true
   },
   "outputs": [],
   "source": [
    "import pandas as pd\n",
    "import numpy as np\n",
    "\n",
    "from sklearn import linear_model\n",
    "from sklearn.utils import shuffle\n",
    "from sklearn.metrics import mean_squared_error"
   ]
  },
  {
   "cell_type": "markdown",
   "metadata": {},
   "source": [
    "<h3>Preprocessing</h3>"
   ]
  },
  {
   "cell_type": "code",
   "execution_count": 2,
   "metadata": {
    "collapsed": true
   },
   "outputs": [],
   "source": [
    "hangover_df = pd.read_csv('./train-embedding/hangover.csv', header=None)\n",
    "hangover_df['target'] = 1\n",
    "normal_df   = pd.read_csv('./train-embedding/normal.csv', header=None)\n",
    "normal_df['target'] = 0\n",
    "df = pd.concat([hangover_df, normal_df])\n",
    "df = shuffle(df)\n",
    "\n",
    "msk = np.random.rand(len(df)) <= 0.7\n",
    "train_df = df[msk]\n",
    "test_df = df[~msk]"
   ]
  },
  {
   "cell_type": "code",
   "execution_count": 3,
   "metadata": {},
   "outputs": [
    {
     "data": {
      "text/html": [
       "<div>\n",
       "<style>\n",
       "    .dataframe thead tr:only-child th {\n",
       "        text-align: right;\n",
       "    }\n",
       "\n",
       "    .dataframe thead th {\n",
       "        text-align: left;\n",
       "    }\n",
       "\n",
       "    .dataframe tbody tr th {\n",
       "        vertical-align: top;\n",
       "    }\n",
       "</style>\n",
       "<table border=\"1\" class=\"dataframe\">\n",
       "  <thead>\n",
       "    <tr style=\"text-align: right;\">\n",
       "      <th></th>\n",
       "      <th>0</th>\n",
       "      <th>1</th>\n",
       "      <th>2</th>\n",
       "      <th>3</th>\n",
       "      <th>4</th>\n",
       "      <th>5</th>\n",
       "      <th>6</th>\n",
       "      <th>7</th>\n",
       "      <th>8</th>\n",
       "      <th>9</th>\n",
       "      <th>...</th>\n",
       "      <th>119</th>\n",
       "      <th>120</th>\n",
       "      <th>121</th>\n",
       "      <th>122</th>\n",
       "      <th>123</th>\n",
       "      <th>124</th>\n",
       "      <th>125</th>\n",
       "      <th>126</th>\n",
       "      <th>127</th>\n",
       "      <th>target</th>\n",
       "    </tr>\n",
       "  </thead>\n",
       "  <tbody>\n",
       "    <tr>\n",
       "      <th>68</th>\n",
       "      <td>-0.084911</td>\n",
       "      <td>-0.009270</td>\n",
       "      <td>0.009546</td>\n",
       "      <td>0.115164</td>\n",
       "      <td>-0.085489</td>\n",
       "      <td>0.063875</td>\n",
       "      <td>-0.010310</td>\n",
       "      <td>0.003730</td>\n",
       "      <td>0.119251</td>\n",
       "      <td>-0.044280</td>\n",
       "      <td>...</td>\n",
       "      <td>0.048277</td>\n",
       "      <td>0.074416</td>\n",
       "      <td>-0.028843</td>\n",
       "      <td>0.021439</td>\n",
       "      <td>0.072303</td>\n",
       "      <td>0.037443</td>\n",
       "      <td>0.099242</td>\n",
       "      <td>0.124574</td>\n",
       "      <td>0.151598</td>\n",
       "      <td>0</td>\n",
       "    </tr>\n",
       "    <tr>\n",
       "      <th>9</th>\n",
       "      <td>0.029922</td>\n",
       "      <td>0.089255</td>\n",
       "      <td>-0.243156</td>\n",
       "      <td>-0.047181</td>\n",
       "      <td>0.063658</td>\n",
       "      <td>0.054530</td>\n",
       "      <td>-0.014586</td>\n",
       "      <td>-0.015137</td>\n",
       "      <td>-0.059696</td>\n",
       "      <td>0.004668</td>\n",
       "      <td>...</td>\n",
       "      <td>0.010683</td>\n",
       "      <td>0.021390</td>\n",
       "      <td>0.120039</td>\n",
       "      <td>0.293659</td>\n",
       "      <td>-0.045275</td>\n",
       "      <td>-0.003520</td>\n",
       "      <td>-0.094021</td>\n",
       "      <td>0.028207</td>\n",
       "      <td>-0.064112</td>\n",
       "      <td>1</td>\n",
       "    </tr>\n",
       "    <tr>\n",
       "      <th>2</th>\n",
       "      <td>-0.008513</td>\n",
       "      <td>0.009762</td>\n",
       "      <td>0.087898</td>\n",
       "      <td>-0.004634</td>\n",
       "      <td>-0.048179</td>\n",
       "      <td>-0.045477</td>\n",
       "      <td>-0.058388</td>\n",
       "      <td>0.022197</td>\n",
       "      <td>-0.093591</td>\n",
       "      <td>0.010947</td>\n",
       "      <td>...</td>\n",
       "      <td>-0.031885</td>\n",
       "      <td>-0.063351</td>\n",
       "      <td>0.033514</td>\n",
       "      <td>-0.005670</td>\n",
       "      <td>0.036688</td>\n",
       "      <td>0.102517</td>\n",
       "      <td>0.063446</td>\n",
       "      <td>0.099328</td>\n",
       "      <td>0.065341</td>\n",
       "      <td>1</td>\n",
       "    </tr>\n",
       "    <tr>\n",
       "      <th>22</th>\n",
       "      <td>-0.122091</td>\n",
       "      <td>0.059915</td>\n",
       "      <td>0.211970</td>\n",
       "      <td>0.029135</td>\n",
       "      <td>0.121371</td>\n",
       "      <td>0.114811</td>\n",
       "      <td>-0.066033</td>\n",
       "      <td>-0.100127</td>\n",
       "      <td>0.026606</td>\n",
       "      <td>-0.006847</td>\n",
       "      <td>...</td>\n",
       "      <td>0.044293</td>\n",
       "      <td>0.115218</td>\n",
       "      <td>0.014730</td>\n",
       "      <td>0.039876</td>\n",
       "      <td>-0.051446</td>\n",
       "      <td>-0.028857</td>\n",
       "      <td>0.157869</td>\n",
       "      <td>0.020787</td>\n",
       "      <td>-0.076193</td>\n",
       "      <td>1</td>\n",
       "    </tr>\n",
       "    <tr>\n",
       "      <th>41</th>\n",
       "      <td>-0.116346</td>\n",
       "      <td>0.129844</td>\n",
       "      <td>-0.046008</td>\n",
       "      <td>0.018052</td>\n",
       "      <td>0.051656</td>\n",
       "      <td>0.114860</td>\n",
       "      <td>-0.029000</td>\n",
       "      <td>-0.056266</td>\n",
       "      <td>0.142032</td>\n",
       "      <td>-0.004645</td>\n",
       "      <td>...</td>\n",
       "      <td>0.196352</td>\n",
       "      <td>0.174074</td>\n",
       "      <td>-0.055549</td>\n",
       "      <td>-0.016778</td>\n",
       "      <td>0.084412</td>\n",
       "      <td>-0.014488</td>\n",
       "      <td>0.059498</td>\n",
       "      <td>0.069545</td>\n",
       "      <td>0.095065</td>\n",
       "      <td>1</td>\n",
       "    </tr>\n",
       "    <tr>\n",
       "      <th>104</th>\n",
       "      <td>0.092431</td>\n",
       "      <td>0.127335</td>\n",
       "      <td>-0.090396</td>\n",
       "      <td>-0.020314</td>\n",
       "      <td>-0.004240</td>\n",
       "      <td>0.086157</td>\n",
       "      <td>0.021442</td>\n",
       "      <td>-0.064974</td>\n",
       "      <td>-0.176297</td>\n",
       "      <td>0.083041</td>\n",
       "      <td>...</td>\n",
       "      <td>0.052011</td>\n",
       "      <td>0.009385</td>\n",
       "      <td>-0.058835</td>\n",
       "      <td>0.143008</td>\n",
       "      <td>-0.016298</td>\n",
       "      <td>-0.002564</td>\n",
       "      <td>0.004624</td>\n",
       "      <td>0.085725</td>\n",
       "      <td>0.056257</td>\n",
       "      <td>0</td>\n",
       "    </tr>\n",
       "    <tr>\n",
       "      <th>39</th>\n",
       "      <td>0.057399</td>\n",
       "      <td>0.042595</td>\n",
       "      <td>-0.123085</td>\n",
       "      <td>0.064893</td>\n",
       "      <td>0.047942</td>\n",
       "      <td>0.163313</td>\n",
       "      <td>-0.021558</td>\n",
       "      <td>-0.033434</td>\n",
       "      <td>-0.006772</td>\n",
       "      <td>-0.012188</td>\n",
       "      <td>...</td>\n",
       "      <td>0.145922</td>\n",
       "      <td>0.046446</td>\n",
       "      <td>-0.015693</td>\n",
       "      <td>-0.032261</td>\n",
       "      <td>-0.010402</td>\n",
       "      <td>0.082848</td>\n",
       "      <td>-0.013524</td>\n",
       "      <td>0.093689</td>\n",
       "      <td>0.191289</td>\n",
       "      <td>0</td>\n",
       "    </tr>\n",
       "    <tr>\n",
       "      <th>7</th>\n",
       "      <td>0.037024</td>\n",
       "      <td>0.012872</td>\n",
       "      <td>-0.093129</td>\n",
       "      <td>-0.009214</td>\n",
       "      <td>0.124501</td>\n",
       "      <td>0.148940</td>\n",
       "      <td>-0.012864</td>\n",
       "      <td>-0.092630</td>\n",
       "      <td>-0.147442</td>\n",
       "      <td>0.133582</td>\n",
       "      <td>...</td>\n",
       "      <td>0.077882</td>\n",
       "      <td>0.076548</td>\n",
       "      <td>-0.117338</td>\n",
       "      <td>0.040206</td>\n",
       "      <td>0.012500</td>\n",
       "      <td>0.002478</td>\n",
       "      <td>-0.010784</td>\n",
       "      <td>0.060028</td>\n",
       "      <td>0.116780</td>\n",
       "      <td>0</td>\n",
       "    </tr>\n",
       "    <tr>\n",
       "      <th>83</th>\n",
       "      <td>0.068440</td>\n",
       "      <td>0.060899</td>\n",
       "      <td>-0.150618</td>\n",
       "      <td>-0.057505</td>\n",
       "      <td>0.155748</td>\n",
       "      <td>0.092625</td>\n",
       "      <td>-0.000968</td>\n",
       "      <td>-0.156866</td>\n",
       "      <td>-0.078063</td>\n",
       "      <td>0.080768</td>\n",
       "      <td>...</td>\n",
       "      <td>0.039745</td>\n",
       "      <td>0.013847</td>\n",
       "      <td>-0.040547</td>\n",
       "      <td>0.097009</td>\n",
       "      <td>0.073186</td>\n",
       "      <td>-0.061799</td>\n",
       "      <td>0.033977</td>\n",
       "      <td>0.000801</td>\n",
       "      <td>-0.041890</td>\n",
       "      <td>1</td>\n",
       "    </tr>\n",
       "    <tr>\n",
       "      <th>71</th>\n",
       "      <td>0.079658</td>\n",
       "      <td>0.145033</td>\n",
       "      <td>-0.069509</td>\n",
       "      <td>0.135625</td>\n",
       "      <td>-0.032015</td>\n",
       "      <td>0.163056</td>\n",
       "      <td>-0.016323</td>\n",
       "      <td>-0.073199</td>\n",
       "      <td>0.026474</td>\n",
       "      <td>0.012275</td>\n",
       "      <td>...</td>\n",
       "      <td>0.106065</td>\n",
       "      <td>0.034920</td>\n",
       "      <td>-0.080614</td>\n",
       "      <td>-0.053939</td>\n",
       "      <td>0.030372</td>\n",
       "      <td>0.109096</td>\n",
       "      <td>0.055937</td>\n",
       "      <td>0.145811</td>\n",
       "      <td>0.127022</td>\n",
       "      <td>0</td>\n",
       "    </tr>\n",
       "  </tbody>\n",
       "</table>\n",
       "<p>10 rows × 129 columns</p>\n",
       "</div>"
      ],
      "text/plain": [
       "            0         1         2         3         4         5         6  \\\n",
       "68  -0.084911 -0.009270  0.009546  0.115164 -0.085489  0.063875 -0.010310   \n",
       "9    0.029922  0.089255 -0.243156 -0.047181  0.063658  0.054530 -0.014586   \n",
       "2   -0.008513  0.009762  0.087898 -0.004634 -0.048179 -0.045477 -0.058388   \n",
       "22  -0.122091  0.059915  0.211970  0.029135  0.121371  0.114811 -0.066033   \n",
       "41  -0.116346  0.129844 -0.046008  0.018052  0.051656  0.114860 -0.029000   \n",
       "104  0.092431  0.127335 -0.090396 -0.020314 -0.004240  0.086157  0.021442   \n",
       "39   0.057399  0.042595 -0.123085  0.064893  0.047942  0.163313 -0.021558   \n",
       "7    0.037024  0.012872 -0.093129 -0.009214  0.124501  0.148940 -0.012864   \n",
       "83   0.068440  0.060899 -0.150618 -0.057505  0.155748  0.092625 -0.000968   \n",
       "71   0.079658  0.145033 -0.069509  0.135625 -0.032015  0.163056 -0.016323   \n",
       "\n",
       "            7         8         9   ...         119       120       121  \\\n",
       "68   0.003730  0.119251 -0.044280   ...    0.048277  0.074416 -0.028843   \n",
       "9   -0.015137 -0.059696  0.004668   ...    0.010683  0.021390  0.120039   \n",
       "2    0.022197 -0.093591  0.010947   ...   -0.031885 -0.063351  0.033514   \n",
       "22  -0.100127  0.026606 -0.006847   ...    0.044293  0.115218  0.014730   \n",
       "41  -0.056266  0.142032 -0.004645   ...    0.196352  0.174074 -0.055549   \n",
       "104 -0.064974 -0.176297  0.083041   ...    0.052011  0.009385 -0.058835   \n",
       "39  -0.033434 -0.006772 -0.012188   ...    0.145922  0.046446 -0.015693   \n",
       "7   -0.092630 -0.147442  0.133582   ...    0.077882  0.076548 -0.117338   \n",
       "83  -0.156866 -0.078063  0.080768   ...    0.039745  0.013847 -0.040547   \n",
       "71  -0.073199  0.026474  0.012275   ...    0.106065  0.034920 -0.080614   \n",
       "\n",
       "          122       123       124       125       126       127  target  \n",
       "68   0.021439  0.072303  0.037443  0.099242  0.124574  0.151598       0  \n",
       "9    0.293659 -0.045275 -0.003520 -0.094021  0.028207 -0.064112       1  \n",
       "2   -0.005670  0.036688  0.102517  0.063446  0.099328  0.065341       1  \n",
       "22   0.039876 -0.051446 -0.028857  0.157869  0.020787 -0.076193       1  \n",
       "41  -0.016778  0.084412 -0.014488  0.059498  0.069545  0.095065       1  \n",
       "104  0.143008 -0.016298 -0.002564  0.004624  0.085725  0.056257       0  \n",
       "39  -0.032261 -0.010402  0.082848 -0.013524  0.093689  0.191289       0  \n",
       "7    0.040206  0.012500  0.002478 -0.010784  0.060028  0.116780       0  \n",
       "83   0.097009  0.073186 -0.061799  0.033977  0.000801 -0.041890       1  \n",
       "71  -0.053939  0.030372  0.109096  0.055937  0.145811  0.127022       0  \n",
       "\n",
       "[10 rows x 129 columns]"
      ]
     },
     "execution_count": 3,
     "metadata": {},
     "output_type": "execute_result"
    }
   ],
   "source": [
    "df.head(10)"
   ]
  },
  {
   "cell_type": "code",
   "execution_count": 4,
   "metadata": {
    "collapsed": true
   },
   "outputs": [],
   "source": [
    "train = {'x': train_df.drop('target', axis=1), 'y': train_df['target']}\n",
    "test  = {'x': test_df.drop('target', axis=1), 'y': test_df['target']}"
   ]
  },
  {
   "cell_type": "markdown",
   "metadata": {},
   "source": [
    "<h3>Linear Model</h3>"
   ]
  },
  {
   "cell_type": "code",
   "execution_count": 5,
   "metadata": {},
   "outputs": [
    {
     "data": {
      "text/plain": [
       "Ridge(alpha=0.1, copy_X=True, fit_intercept=True, max_iter=None,\n",
       "   normalize=False, random_state=1, solver='auto', tol=0.001)"
      ]
     },
     "execution_count": 5,
     "metadata": {},
     "output_type": "execute_result"
    }
   ],
   "source": [
    "model = linear_model.Ridge(alpha=0.1, random_state=1)\n",
    "model.fit(train['x'], train['y'])"
   ]
  },
  {
   "cell_type": "code",
   "execution_count": 6,
   "metadata": {},
   "outputs": [
    {
     "name": "stdout",
     "output_type": "stream",
     "text": [
      "Train error 0.0753432238021\n",
      "Test error 0.155551976689\n"
     ]
    }
   ],
   "source": [
    "train['pred'] = model.predict(train['x'])\n",
    "test['pred'] = model.predict(test['x'])\n",
    "\n",
    "print('Train error', mean_squared_error(train['y'], train['pred']))\n",
    "print('Test error', mean_squared_error(test['y'], test['pred']))"
   ]
  },
  {
   "cell_type": "code",
   "execution_count": 7,
   "metadata": {
    "collapsed": true
   },
   "outputs": [],
   "source": [
    "tmp_df = pd.DataFrame()\n",
    "tmp_df['y'] = test['y']\n",
    "tmp_df['pred'] = test['pred']"
   ]
  },
  {
   "cell_type": "code",
   "execution_count": 8,
   "metadata": {},
   "outputs": [
    {
     "data": {
      "text/html": [
       "<div>\n",
       "<style>\n",
       "    .dataframe thead tr:only-child th {\n",
       "        text-align: right;\n",
       "    }\n",
       "\n",
       "    .dataframe thead th {\n",
       "        text-align: left;\n",
       "    }\n",
       "\n",
       "    .dataframe tbody tr th {\n",
       "        vertical-align: top;\n",
       "    }\n",
       "</style>\n",
       "<table border=\"1\" class=\"dataframe\">\n",
       "  <thead>\n",
       "    <tr style=\"text-align: right;\">\n",
       "      <th></th>\n",
       "      <th>0</th>\n",
       "      <th>1</th>\n",
       "      <th>2</th>\n",
       "      <th>3</th>\n",
       "      <th>4</th>\n",
       "      <th>5</th>\n",
       "      <th>6</th>\n",
       "      <th>7</th>\n",
       "      <th>8</th>\n",
       "      <th>9</th>\n",
       "      <th>...</th>\n",
       "      <th>118</th>\n",
       "      <th>119</th>\n",
       "      <th>120</th>\n",
       "      <th>121</th>\n",
       "      <th>122</th>\n",
       "      <th>123</th>\n",
       "      <th>124</th>\n",
       "      <th>125</th>\n",
       "      <th>126</th>\n",
       "      <th>127</th>\n",
       "    </tr>\n",
       "  </thead>\n",
       "  <tbody>\n",
       "    <tr>\n",
       "      <th>0</th>\n",
       "      <td>-0.061841</td>\n",
       "      <td>0.137985</td>\n",
       "      <td>0.100331</td>\n",
       "      <td>-0.100835</td>\n",
       "      <td>0.084029</td>\n",
       "      <td>0.169799</td>\n",
       "      <td>-0.038081</td>\n",
       "      <td>0.057994</td>\n",
       "      <td>-0.051805</td>\n",
       "      <td>-0.003714</td>\n",
       "      <td>...</td>\n",
       "      <td>0.060776</td>\n",
       "      <td>0.120232</td>\n",
       "      <td>0.002748</td>\n",
       "      <td>-0.020624</td>\n",
       "      <td>-0.043453</td>\n",
       "      <td>0.033686</td>\n",
       "      <td>0.059491</td>\n",
       "      <td>0.003029</td>\n",
       "      <td>0.052273</td>\n",
       "      <td>-0.018734</td>\n",
       "    </tr>\n",
       "  </tbody>\n",
       "</table>\n",
       "<p>1 rows × 128 columns</p>\n",
       "</div>"
      ],
      "text/plain": [
       "        0         1         2         3         4         5         6    \\\n",
       "0 -0.061841  0.137985  0.100331 -0.100835  0.084029  0.169799 -0.038081   \n",
       "\n",
       "        7         8         9      ...          118       119       120  \\\n",
       "0  0.057994 -0.051805 -0.003714    ...     0.060776  0.120232  0.002748   \n",
       "\n",
       "        121       122       123       124       125       126       127  \n",
       "0 -0.020624 -0.043453  0.033686  0.059491  0.003029  0.052273 -0.018734  \n",
       "\n",
       "[1 rows x 128 columns]"
      ]
     },
     "execution_count": 8,
     "metadata": {},
     "output_type": "execute_result"
    }
   ],
   "source": [
    "dima_drink_df = pd.read_csv('./train-embedding/dima_drink.csv', header=None)\n",
    "dima_drink_df"
   ]
  },
  {
   "cell_type": "code",
   "execution_count": 9,
   "metadata": {},
   "outputs": [
    {
     "data": {
      "text/plain": [
       "array([ 0.82490942])"
      ]
     },
     "execution_count": 9,
     "metadata": {},
     "output_type": "execute_result"
    }
   ],
   "source": [
    "model.predict(dima_drink_df)"
   ]
  },
  {
   "cell_type": "code",
   "execution_count": 10,
   "metadata": {},
   "outputs": [
    {
     "data": {
      "text/html": [
       "<div>\n",
       "<style>\n",
       "    .dataframe thead tr:only-child th {\n",
       "        text-align: right;\n",
       "    }\n",
       "\n",
       "    .dataframe thead th {\n",
       "        text-align: left;\n",
       "    }\n",
       "\n",
       "    .dataframe tbody tr th {\n",
       "        vertical-align: top;\n",
       "    }\n",
       "</style>\n",
       "<table border=\"1\" class=\"dataframe\">\n",
       "  <thead>\n",
       "    <tr style=\"text-align: right;\">\n",
       "      <th></th>\n",
       "      <th>0</th>\n",
       "      <th>1</th>\n",
       "      <th>2</th>\n",
       "      <th>3</th>\n",
       "      <th>4</th>\n",
       "      <th>5</th>\n",
       "      <th>6</th>\n",
       "      <th>7</th>\n",
       "      <th>8</th>\n",
       "      <th>9</th>\n",
       "      <th>...</th>\n",
       "      <th>118</th>\n",
       "      <th>119</th>\n",
       "      <th>120</th>\n",
       "      <th>121</th>\n",
       "      <th>122</th>\n",
       "      <th>123</th>\n",
       "      <th>124</th>\n",
       "      <th>125</th>\n",
       "      <th>126</th>\n",
       "      <th>127</th>\n",
       "    </tr>\n",
       "  </thead>\n",
       "  <tbody>\n",
       "    <tr>\n",
       "      <th>0</th>\n",
       "      <td>0.03724</td>\n",
       "      <td>-0.094667</td>\n",
       "      <td>0.030205</td>\n",
       "      <td>-0.033487</td>\n",
       "      <td>0.034872</td>\n",
       "      <td>0.115102</td>\n",
       "      <td>-0.190567</td>\n",
       "      <td>0.011716</td>\n",
       "      <td>-0.128619</td>\n",
       "      <td>-0.101789</td>\n",
       "      <td>...</td>\n",
       "      <td>0.045036</td>\n",
       "      <td>0.168485</td>\n",
       "      <td>0.089637</td>\n",
       "      <td>-0.004015</td>\n",
       "      <td>0.019652</td>\n",
       "      <td>-0.04558</td>\n",
       "      <td>0.087051</td>\n",
       "      <td>-0.024257</td>\n",
       "      <td>0.249144</td>\n",
       "      <td>0.190036</td>\n",
       "    </tr>\n",
       "  </tbody>\n",
       "</table>\n",
       "<p>1 rows × 128 columns</p>\n",
       "</div>"
      ],
      "text/plain": [
       "       0         1         2         3         4         5         6    \\\n",
       "0  0.03724 -0.094667  0.030205 -0.033487  0.034872  0.115102 -0.190567   \n",
       "\n",
       "        7         8         9      ...          118       119       120  \\\n",
       "0  0.011716 -0.128619 -0.101789    ...     0.045036  0.168485  0.089637   \n",
       "\n",
       "        121       122      123       124       125       126       127  \n",
       "0 -0.004015  0.019652 -0.04558  0.087051 -0.024257  0.249144  0.190036  \n",
       "\n",
       "[1 rows x 128 columns]"
      ]
     },
     "execution_count": 10,
     "metadata": {},
     "output_type": "execute_result"
    }
   ],
   "source": [
    "dima_not_drink_df = pd.read_csv('./train-embedding/dima_not_drink.csv', header=None)\n",
    "dima_not_drink_df"
   ]
  },
  {
   "cell_type": "code",
   "execution_count": 11,
   "metadata": {},
   "outputs": [
    {
     "data": {
      "text/plain": [
       "array([ 0.56096935])"
      ]
     },
     "execution_count": 11,
     "metadata": {},
     "output_type": "execute_result"
    }
   ],
   "source": [
    "model.predict(dima_not_drink_df)"
   ]
  },
  {
   "cell_type": "code",
   "execution_count": null,
   "metadata": {
    "collapsed": true
   },
   "outputs": [],
   "source": [
    "bred_drink_df = pd.read_csv('./train-embedding/bred_drink.csv', header=None)\n",
    "bred_drink_df\n"
   ]
  },
  {
   "cell_type": "code",
   "execution_count": null,
   "metadata": {
    "collapsed": true
   },
   "outputs": [],
   "source": [
    "model.predict(bred_drink_df)"
   ]
  },
  {
   "cell_type": "code",
   "execution_count": null,
   "metadata": {
    "collapsed": true
   },
   "outputs": [],
   "source": [
    "pasha_drink_df = pd.read_csv('./train-embedding/pasha_drink.csv', header=None)\n",
    "pasha_drink_df\n"
   ]
  },
  {
   "cell_type": "code",
   "execution_count": null,
   "metadata": {
    "collapsed": true
   },
   "outputs": [],
   "source": [
    "model.predict(pasha_drink_df)"
   ]
  },
  {
   "cell_type": "code",
   "execution_count": null,
   "metadata": {
    "collapsed": true
   },
   "outputs": [],
   "source": []
  },
  {
   "cell_type": "code",
   "execution_count": null,
   "metadata": {
    "collapsed": true
   },
   "outputs": [],
   "source": []
  }
 ],
 "metadata": {
  "kernelspec": {
   "display_name": "Python 3",
   "language": "python",
   "name": "python3"
  },
  "language_info": {
   "codemirror_mode": {
    "name": "ipython",
    "version": 3
   },
   "file_extension": ".py",
   "mimetype": "text/x-python",
   "name": "python",
   "nbconvert_exporter": "python",
   "pygments_lexer": "ipython3",
   "version": "3.6.3"
  }
 },
 "nbformat": 4,
 "nbformat_minor": 2
}
